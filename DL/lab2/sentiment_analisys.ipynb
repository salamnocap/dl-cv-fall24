{
  "cells": [
    {
      "cell_type": "code",
      "execution_count": 62,
      "metadata": {
        "colab": {
          "base_uri": "https://localhost:8080/"
        },
        "id": "-5ZOa1sGt5-j",
        "outputId": "f9e272a5-08c0-43fc-bdf9-6e5d6457bc53"
      },
      "outputs": [
        {
          "name": "stdout",
          "output_type": "stream",
          "text": [
            "Drive already mounted at /content/drive; to attempt to forcibly remount, call drive.mount(\"/content/drive\", force_remount=True).\n"
          ]
        }
      ],
      "source": [
        "from google.colab import drive\n",
        "drive.mount('/content/drive')"
      ]
    },
    {
      "cell_type": "code",
      "execution_count": 63,
      "metadata": {
        "id": "LLTgA6J4uP1R"
      },
      "outputs": [],
      "source": [
        "path = \"/content/drive/MyDrive/\""
      ]
    },
    {
      "cell_type": "markdown",
      "metadata": {
        "id": "_iwxpSuntWoG"
      },
      "source": [
        "## Task:\n",
        "add one more class 4,5,6 as neutral comments, retrain and evaluate the model"
      ]
    },
    {
      "cell_type": "code",
      "execution_count": 64,
      "metadata": {
        "id": "NezJFPBEtWoI"
      },
      "outputs": [],
      "source": [
        "import pandas as pd\n",
        "import numpy as np\n",
        "import matplotlib.pyplot as plt\n",
        "import seaborn as sns\n",
        "\n",
        "from sklearn.utils import resample\n",
        "from sklearn.model_selection import train_test_split\n",
        "from sklearn.metrics import confusion_matrix\n",
        "\n",
        "import tqdm\n",
        "import torch\n",
        "import torch.nn as nn\n",
        "from torch.utils.data import DataLoader, TensorDataset"
      ]
    },
    {
      "cell_type": "markdown",
      "metadata": {
        "id": "Rg3AJR_RtWoI"
      },
      "source": [
        "## Dataset"
      ]
    },
    {
      "cell_type": "code",
      "execution_count": 65,
      "metadata": {
        "colab": {
          "base_uri": "https://localhost:8080/"
        },
        "id": "Jiiy1ssezIzU",
        "outputId": "8b119584-0e0e-4033-e9f4-c10561afaefb"
      },
      "outputs": [
        {
          "name": "stdout",
          "output_type": "stream",
          "text": [
            "                                             comment  grade\n",
            "0  думал, что будет лучше идея очень интересна - ...      7\n",
            "1  с творчеством Головачева я познакомился посред...     10\n",
            "2  то-то я и в большое неудовольствие прочитал \"А...      5\n",
            "3  как мне показалось местами сильно смахивает на...      6\n",
            "4  от первой части книги просто оторваться не мог...      9\n"
          ]
        }
      ],
      "source": [
        "df = pd.read_csv(path+'texts_train.txt', sep=\"\\t\", encoding='UTF-8',header=0)\n",
        "df['grade'] = pd.read_csv(path+'scores_train.txt', sep=\"\\t\", encoding='UTF-8',header=0)\n",
        "df.columns = ['comment', 'grade']\n",
        "print(df.head())"
      ]
    },
    {
      "cell_type": "code",
      "execution_count": 66,
      "metadata": {
        "colab": {
          "base_uri": "https://localhost:8080/"
        },
        "id": "wjPzLS94tWoJ",
        "outputId": "8b8b8b18-70f8-4d4a-b863-33e92f009fe4"
      },
      "outputs": [
        {
          "name": "stdout",
          "output_type": "stream",
          "text": [
            "<class 'pandas.core.frame.DataFrame'>\n",
            "RangeIndex: 19999 entries, 0 to 19998\n",
            "Data columns (total 2 columns):\n",
            " #   Column   Non-Null Count  Dtype \n",
            "---  ------   --------------  ----- \n",
            " 0   comment  19999 non-null  object\n",
            " 1   grade    19999 non-null  int64 \n",
            "dtypes: int64(1), object(1)\n",
            "memory usage: 312.6+ KB\n"
          ]
        }
      ],
      "source": [
        "df.info()"
      ]
    },
    {
      "cell_type": "code",
      "execution_count": 67,
      "metadata": {
        "colab": {
          "base_uri": "https://localhost:8080/"
        },
        "id": "CcY_hN6HzIzZ",
        "outputId": "9c344f49-f81e-467b-ed9c-614f79eb3661"
      },
      "outputs": [
        {
          "name": "stdout",
          "output_type": "stream",
          "text": [
            "all unique grades:  [ 1  2  3  4  5  6  7  8  9 10]\n"
          ]
        }
      ],
      "source": [
        "unique_grades = np.sort(df['grade'].unique())\n",
        "print('all unique grades: ', unique_grades)"
      ]
    },
    {
      "cell_type": "markdown",
      "metadata": {
        "id": "6L820m1TtWoJ"
      },
      "source": [
        "## Distribution of grades"
      ]
    },
    {
      "cell_type": "code",
      "execution_count": 68,
      "metadata": {
        "colab": {
          "base_uri": "https://localhost:8080/",
          "height": 430
        },
        "id": "gd_UZBaOtWoJ",
        "outputId": "d71b65ba-2e4a-4bd8-94c4-b0a6400b6f0b"
      },
      "outputs": [
        {
          "data": {
            "image/png": "[encoded data removed]",
            "text/plain": [
              "<Figure size 640x480 with 1 Axes>"
            ]
          },
          "metadata": {},
          "output_type": "display_data"
        }
      ],
      "source": [
        "plt.hist(df['grade'], bins=10)\n",
        "plt.show()"
      ]
    },
    {
      "cell_type": "markdown",
      "metadata": {
        "id": "33oeoLzktWoJ"
      },
      "source": [
        "## Binary encoding"
      ]
    },
    {
      "cell_type": "code",
      "execution_count": 69,
      "metadata": {
        "id": "Ly0zq_Z9tWoJ"
      },
      "outputs": [],
      "source": [
        "def encode_grades(grade: int) -> list[int]:\n",
        "    if grade in range(1, 4):\n",
        "        return [1, 0, 0], \"bad\"\n",
        "    if grade in range(4, 7):\n",
        "        return [0, 1, 0], \"neutral\"\n",
        "    if grade in range(7, 11):\n",
        "        return [0, 0, 1], \"good\""
      ]
    },
    {
      "cell_type": "code",
      "execution_count": 70,
      "metadata": {
        "id": "hIfLd-3PtWoK"
      },
      "outputs": [],
      "source": [
        "df[[\"encoded_grade\", \"label\"]] = df[\"grade\"].apply(encode_grades).apply(pd.Series)"
      ]
    },
    {
      "cell_type": "code",
      "execution_count": 71,
      "metadata": {
        "colab": {
          "base_uri": "https://localhost:8080/",
          "height": 206
        },
        "id": "ez2DltXltWoK",
        "outputId": "1e54a6a1-0d98-46ed-95f6-88446994e506"
      },
      "outputs": [
        {
          "data": {
            "application/vnd.google.colaboratory.intrinsic+json": {
              "summary": "{\n  \"name\": \"df\",\n  \"rows\": 19999,\n  \"fields\": [\n    {\n      \"column\": \"comment\",\n      \"properties\": {\n        \"dtype\": \"string\",\n        \"num_unique_values\": 19999,\n        \"samples\": [\n          \"\\u0420\\u0435\\u043a\\u043b\\u0430\\u043c\\u0430 - \\u0432\\u0435\\u043b\\u0438\\u043a\\u043e\\u0435 \\u0438\\u0437\\u043e\\u0431\\u0440\\u0435\\u0442\\u0435\\u043d\\u0438\\u0435. \\u0410 \\u043a\\u043d\\u0438\\u0433\\u0430 - \\u0431\\u0440\\u0435\\u0434 \\u0437\\u0430\\u0436\\u0440\\u0430\\u0432\\u0448\\u0435\\u0439\\u0441\\u044f \\u0431\\u0435\\u0437\\u0434\\u0435\\u043b\\u044c\\u043d\\u0438\\u0446\\u044b.\",\n          \"\\u0412\\u0435\\u043b\\u0438\\u043a\\u043e\\u043b\\u0435\\u043f\\u043d\\u044b\\u0439 \\u043d\\u0430\\u0441\\u044b\\u0449\\u0435\\u043d\\u043d\\u044b\\u0439 \\u0441\\u043e\\u0431\\u044b\\u0442\\u0438\\u044f\\u043c\\u0438 \\u0438 \\u044f\\u0440\\u043a\\u0438\\u043c\\u0438 \\u043f\\u0435\\u0440\\u0441\\u043e\\u043d\\u0430\\u0436\\u0430\\u043c\\u0438 \\u0440\\u043e\\u043c\\u0430\\u043d. \\u0414\\u043b\\u044f \\u0442\\u0435\\u0445, \\u043a\\u0442\\u043e \\u0433\\u043b\\u0443\\u0431\\u043e\\u043a\\u043e \\u0432 \\u0442\\u0430\\u043d\\u043a\\u0435, \\u044d\\u0442\\u043e \\u043d\\u0435 \\u0443\\u0447\\u0435\\u0431\\u043d\\u0438\\u043a \\u043f\\u043e \\u0430\\u043b\\u0433\\u043e\\u0440\\u0438\\u0442\\u043c\\u0430\\u043c \\u0448\\u0438\\u0444\\u0440\\u0430\\u0446\\u0438\\u0438, \\u0430 \\u0438\\u043c\\u0435\\u043d\\u043d\\u043e \\u0445\\u0443\\u0434\\u043e\\u0436\\u0435\\u0441\\u0442\\u0432\\u0435\\u043d\\u043d\\u043e\\u0435 \\u043f\\u0440\\u043e\\u0438\\u0437\\u0432\\u0435\\u0434\\u0435\\u043d\\u0438\\u0435. \\u0414\\u043e\\u043b\\u0436\\u043d\\u043e \\u0431\\u044b\\u0442\\u044c \\u043f\\u0440\\u043e\\u0447\\u0438\\u0442\\u0430\\u043d\\u043e.\",\n          \"\\u041c\\u043d\\u0435 \\u043d\\u0435 \\u043f\\u043e\\u043d\\u0440\\u0430\\u0432\\u0438\\u043b\\u0430\\u0441\\u044c, \\u043f\\u0440\\u0438\\u0437\\u043d\\u0430\\u0442\\u044c\\u0441\\u044f \\u0434\\u0430\\u0436\\u0435 \\u043d\\u0435 \\u0434\\u043e\\u0447\\u0438\\u0442\\u0430\\u043b, \\u043d\\u043e \\u0440\\u0430\\u0437 \\u0443\\u0436 \\u043f\\u0438\\u0448\\u0443\\u0442, \\u0447\\u0442\\u043e \\\"\\u043f\\u0440\\u0438\\u0437\\u043d\\u0430\\u043d \\u0441\\u0430\\u043c\\u044b\\u043c \\u0437\\u043d\\u0430\\u043c\\u0435\\u043d\\u0438\\u0442\\u044b\\u043c \\u0440\\u043e\\u043c\\u0430\\u043d\\u043e\\u043c, \\u043d\\u0430\\u043f\\u0438\\u0441\\u0430\\u043d\\u043d\\u044b\\u043c \\u043d\\u0430 \\u043d\\u0435\\u043c\\u0435\\u0446\\u043a\\u043e\\u043c \\u044f\\u0437\\u044b\\u043a\\u0435 \\u0441\\u043e \\u0432\\u0440\\u0435\\u043c\\u0435\\u043d \\u0420\\u0435\\u043c\\u0430\\u0440\\u043a\\u0430\\\", \\u043d\\u0430\\u0432\\u0435\\u0440\\u043d\\u043e\\u0435 \\u043f\\u0440\\u043e\\u0441\\u0442\\u043e \\u043d\\u0435 \\u043c\\u043e\\u0451.\"\n        ],\n        \"semantic_type\": \"\",\n        \"description\": \"\"\n      }\n    },\n    {\n      \"column\": \"grade\",\n      \"properties\": {\n        \"dtype\": \"number\",\n        \"std\": 2,\n        \"min\": 1,\n        \"max\": 10,\n        \"num_unique_values\": 10,\n        \"samples\": [\n          1,\n          10,\n          8\n        ],\n        \"semantic_type\": \"\",\n        \"description\": \"\"\n      }\n    },\n    {\n      \"column\": \"encoded_grade\",\n      \"properties\": {\n        \"dtype\": \"object\",\n        \"semantic_type\": \"\",\n        \"description\": \"\"\n      }\n    },\n    {\n      \"column\": \"label\",\n      \"properties\": {\n        \"dtype\": \"category\",\n        \"num_unique_values\": 3,\n        \"samples\": [\n          \"good\",\n          \"neutral\",\n          \"bad\"\n        ],\n        \"semantic_type\": \"\",\n        \"description\": \"\"\n      }\n    }\n  ]\n}",
              "type": "dataframe",
              "variable_name": "df"
            },
            "text/html": [
              "\n",
              "  <div id=\"df-4bef6365-af19-4651-9be5-cc932f179e86\" class=\"colab-df-container\">\n",
              "    <div>\n",
              "<style scoped>\n",
              "    .dataframe tbody tr th:only-of-type {\n",
              "        vertical-align: middle;\n",
              "    }\n",
              "\n",
              "    .dataframe tbody tr th {\n",
              "        vertical-align: top;\n",
              "    }\n",
              "\n",
              "    .dataframe thead th {\n",
              "        text-align: right;\n",
              "    }\n",
              "</style>\n",
              "<table border=\"1\" class=\"dataframe\">\n",
              "  <thead>\n",
              "    <tr style=\"text-align: right;\">\n",
              "      <th></th>\n",
              "      <th>comment</th>\n",
              "      <th>grade</th>\n",
              "      <th>encoded_grade</th>\n",
              "      <th>label</th>\n",
              "    </tr>\n",
              "  </thead>\n",
              "  <tbody>\n",
              "    <tr>\n",
              "      <th>0</th>\n",
              "      <td>думал, что будет лучше идея очень интересна - ...</td>\n",
              "      <td>7</td>\n",
              "      <td>[0, 0, 1]</td>\n",
              "      <td>good</td>\n",
              "    </tr>\n",
              "    <tr>\n",
              "      <th>1</th>\n",
              "      <td>с творчеством Головачева я познакомился посред...</td>\n",
              "      <td>10</td>\n",
              "      <td>[0, 0, 1]</td>\n",
              "      <td>good</td>\n",
              "    </tr>\n",
              "    <tr>\n",
              "      <th>2</th>\n",
              "      <td>то-то я и в большое неудовольствие прочитал \"А...</td>\n",
              "      <td>5</td>\n",
              "      <td>[0, 1, 0]</td>\n",
              "      <td>neutral</td>\n",
              "    </tr>\n",
              "    <tr>\n",
              "      <th>3</th>\n",
              "      <td>как мне показалось местами сильно смахивает на...</td>\n",
              "      <td>6</td>\n",
              "      <td>[0, 1, 0]</td>\n",
              "      <td>neutral</td>\n",
              "    </tr>\n",
              "    <tr>\n",
              "      <th>4</th>\n",
              "      <td>от первой части книги просто оторваться не мог...</td>\n",
              "      <td>9</td>\n",
              "      <td>[0, 0, 1]</td>\n",
              "      <td>good</td>\n",
              "    </tr>\n",
              "  </tbody>\n",
              "</table>\n",
              "</div>\n",
              "    <div class=\"colab-df-buttons\">\n",
              "\n",
              "  <div class=\"colab-df-container\">\n",
              "    <button class=\"colab-df-convert\" onclick=\"convertToInteractive('df-4bef6365-af19-4651-9be5-cc932f179e86')\"\n",
              "            title=\"Convert this dataframe to an interactive table.\"\n",
              "            style=\"display:none;\">\n",
              "\n",
              "  <svg xmlns=\"http://www.w3.org/2000/svg\" height=\"24px\" viewBox=\"0 -960 960 960\">\n",
              "    <path d=\"M120-120v-720h720v720H120Zm60-500h600v-160H180v160Zm220 220h160v-160H400v160Zm0 220h160v-160H400v160ZM180-400h160v-160H180v160Zm440 0h160v-160H620v160ZM180-180h160v-160H180v160Zm440 0h160v-160H620v160Z\"/>\n",
              "  </svg>\n",
              "    </button>\n",
              "\n",
              "  <style>\n",
              "    .colab-df-container {\n",
              "      display:flex;\n",
              "      gap: 12px;\n",
              "    }\n",
              "\n",
              "    .colab-df-convert {\n",
              "      background-color: #E8F0FE;\n",
              "      border: none;\n",
              "      border-radius: 50%;\n",
              "      cursor: pointer;\n",
              "      display: none;\n",
              "      fill: #1967D2;\n",
              "      height: 32px;\n",
              "      padding: 0 0 0 0;\n",
              "      width: 32px;\n",
              "    }\n",
              "\n",
              "    .colab-df-convert:hover {\n",
              "      background-color: #E2EBFA;\n",
              "      box-shadow: 0px 1px 2px rgba(60, 64, 67, 0.3), 0px 1px 3px 1px rgba(60, 64, 67, 0.15);\n",
              "      fill: #174EA6;\n",
              "    }\n",
              "\n",
              "    .colab-df-buttons div {\n",
              "      margin-bottom: 4px;\n",
              "    }\n",
              "\n",
              "    [theme=dark] .colab-df-convert {\n",
              "      background-color: #3B4455;\n",
              "      fill: #D2E3FC;\n",
              "    }\n",
              "\n",
              "    [theme=dark] .colab-df-convert:hover {\n",
              "      background-color: #434B5C;\n",
              "      box-shadow: 0px 1px 3px 1px rgba(0, 0, 0, 0.15);\n",
              "      filter: drop-shadow(0px 1px 2px rgba(0, 0, 0, 0.3));\n",
              "      fill: #FFFFFF;\n",
              "    }\n",
              "  </style>\n",
              "\n",
              "    <script>\n",
              "      const buttonEl =\n",
              "        document.querySelector('#df-4bef6365-af19-4651-9be5-cc932f179e86 button.colab-df-convert');\n",
              "      buttonEl.style.display =\n",
              "        google.colab.kernel.accessAllowed ? 'block' : 'none';\n",
              "\n",
              "      async function convertToInteractive(key) {\n",
              "        const element = document.querySelector('#df-4bef6365-af19-4651-9be5-cc932f179e86');\n",
              "        const dataTable =\n",
              "          await google.colab.kernel.invokeFunction('convertToInteractive',\n",
              "                                                    [key], {});\n",
              "        if (!dataTable) return;\n",
              "\n",
              "        const docLinkHtml = 'Like what you see? Visit the ' +\n",
              "          '<a target=\"_blank\" href=https://colab.research.google.com/notebooks/data_table.ipynb>data table notebook</a>'\n",
              "          + ' to learn more about interactive tables.';\n",
              "        element.innerHTML = '';\n",
              "        dataTable['output_type'] = 'display_data';\n",
              "        await google.colab.output.renderOutput(dataTable, element);\n",
              "        const docLink = document.createElement('div');\n",
              "        docLink.innerHTML = docLinkHtml;\n",
              "        element.appendChild(docLink);\n",
              "      }\n",
              "    </script>\n",
              "  </div>\n",
              "\n",
              "\n",
              "<div id=\"df-d9890695-5c4b-4b84-9375-73260abaf7b3\">\n",
              "  <button class=\"colab-df-quickchart\" onclick=\"quickchart('df-d9890695-5c4b-4b84-9375-73260abaf7b3')\"\n",
              "            title=\"Suggest charts\"\n",
              "            style=\"display:none;\">\n",
              "\n",
              "<svg xmlns=\"http://www.w3.org/2000/svg\" height=\"24px\"viewBox=\"0 0 24 24\"\n",
              "     width=\"24px\">\n",
              "    <g>\n",
              "        <path d=\"M19 3H5c-1.1 0-2 .9-2 2v14c0 1.1.9 2 2 2h14c1.1 0 2-.9 2-2V5c0-1.1-.9-2-2-2zM9 17H7v-7h2v7zm4 0h-2V7h2v10zm4 0h-2v-4h2v4z\"/>\n",
              "    </g>\n",
              "</svg>\n",
              "  </button>\n",
              "\n",
              "<style>\n",
              "  .colab-df-quickchart {\n",
              "      --bg-color: #E8F0FE;\n",
              "      --fill-color: #1967D2;\n",
              "      --hover-bg-color: #E2EBFA;\n",
              "      --hover-fill-color: #174EA6;\n",
              "      --disabled-fill-color: #AAA;\n",
              "      --disabled-bg-color: #DDD;\n",
              "  }\n",
              "\n",
              "  [theme=dark] .colab-df-quickchart {\n",
              "      --bg-color: #3B4455;\n",
              "      --fill-color: #D2E3FC;\n",
              "      --hover-bg-color: #434B5C;\n",
              "      --hover-fill-color: #FFFFFF;\n",
              "      --disabled-bg-color: #3B4455;\n",
              "      --disabled-fill-color: #666;\n",
              "  }\n",
              "\n",
              "  .colab-df-quickchart {\n",
              "    background-color: var(--bg-color);\n",
              "    border: none;\n",
              "    border-radius: 50%;\n",
              "    cursor: pointer;\n",
              "    display: none;\n",
              "    fill: var(--fill-color);\n",
              "    height: 32px;\n",
              "    padding: 0;\n",
              "    width: 32px;\n",
              "  }\n",
              "\n",
              "  .colab-df-quickchart:hover {\n",
              "    background-color: var(--hover-bg-color);\n",
              "    box-shadow: 0 1px 2px rgba(60, 64, 67, 0.3), 0 1px 3px 1px rgba(60, 64, 67, 0.15);\n",
              "    fill: var(--button-hover-fill-color);\n",
              "  }\n",
              "\n",
              "  .colab-df-quickchart-complete:disabled,\n",
              "  .colab-df-quickchart-complete:disabled:hover {\n",
              "    background-color: var(--disabled-bg-color);\n",
              "    fill: var(--disabled-fill-color);\n",
              "    box-shadow: none;\n",
              "  }\n",
              "\n",
              "  .colab-df-spinner {\n",
              "    border: 2px solid var(--fill-color);\n",
              "    border-color: transparent;\n",
              "    border-bottom-color: var(--fill-color);\n",
              "    animation:\n",
              "      spin 1s steps(1) infinite;\n",
              "  }\n",
              "\n",
              "  @keyframes spin {\n",
              "    0% {\n",
              "      border-color: transparent;\n",
              "      border-bottom-color: var(--fill-color);\n",
              "      border-left-color: var(--fill-color);\n",
              "    }\n",
              "    20% {\n",
              "      border-color: transparent;\n",
              "      border-left-color: var(--fill-color);\n",
              "      border-top-color: var(--fill-color);\n",
              "    }\n",
              "    30% {\n",
              "      border-color: transparent;\n",
              "      border-left-color: var(--fill-color);\n",
              "      border-top-color: var(--fill-color);\n",
              "      border-right-color: var(--fill-color);\n",
              "    }\n",
              "    40% {\n",
              "      border-color: transparent;\n",
              "      border-right-color: var(--fill-color);\n",
              "      border-top-color: var(--fill-color);\n",
              "    }\n",
              "    60% {\n",
              "      border-color: transparent;\n",
              "      border-right-color: var(--fill-color);\n",
              "    }\n",
              "    80% {\n",
              "      border-color: transparent;\n",
              "      border-right-color: var(--fill-color);\n",
              "      border-bottom-color: var(--fill-color);\n",
              "    }\n",
              "    90% {\n",
              "      border-color: transparent;\n",
              "      border-bottom-color: var(--fill-color);\n",
              "    }\n",
              "  }\n",
              "</style>\n",
              "\n",
              "  <script>\n",
              "    async function quickchart(key) {\n",
              "      const quickchartButtonEl =\n",
              "        document.querySelector('#' + key + ' button');\n",
              "      quickchartButtonEl.disabled = true;  // To prevent multiple clicks.\n",
              "      quickchartButtonEl.classList.add('colab-df-spinner');\n",
              "      try {\n",
              "        const charts = await google.colab.kernel.invokeFunction(\n",
              "            'suggestCharts', [key], {});\n",
              "      } catch (error) {\n",
              "        console.error('Error during call to suggestCharts:', error);\n",
              "      }\n",
              "      quickchartButtonEl.classList.remove('colab-df-spinner');\n",
              "      quickchartButtonEl.classList.add('colab-df-quickchart-complete');\n",
              "    }\n",
              "    (() => {\n",
              "      let quickchartButtonEl =\n",
              "        document.querySelector('#df-d9890695-5c4b-4b84-9375-73260abaf7b3 button');\n",
              "      quickchartButtonEl.style.display =\n",
              "        google.colab.kernel.accessAllowed ? 'block' : 'none';\n",
              "    })();\n",
              "  </script>\n",
              "</div>\n",
              "\n",
              "    </div>\n",
              "  </div>\n"
            ],
            "text/plain": [
              "                                             comment  grade encoded_grade  \\\n",
              "0  думал, что будет лучше идея очень интересна - ...      7     [0, 0, 1]   \n",
              "1  с творчеством Головачева я познакомился посред...     10     [0, 0, 1]   \n",
              "2  то-то я и в большое неудовольствие прочитал \"А...      5     [0, 1, 0]   \n",
              "3  как мне показалось местами сильно смахивает на...      6     [0, 1, 0]   \n",
              "4  от первой части книги просто оторваться не мог...      9     [0, 0, 1]   \n",
              "\n",
              "     label  \n",
              "0     good  \n",
              "1     good  \n",
              "2  neutral  \n",
              "3  neutral  \n",
              "4     good  "
            ]
          },
          "execution_count": 71,
          "metadata": {},
          "output_type": "execute_result"
        }
      ],
      "source": [
        "df.head()"
      ]
    },
    {
      "cell_type": "code",
      "execution_count": 72,
      "metadata": {
        "colab": {
          "base_uri": "https://localhost:8080/"
        },
        "id": "QOtU_ChAtWoK",
        "outputId": "3b1bedbf-da51-4b76-98a4-ea8849accdee"
      },
      "outputs": [
        {
          "name": "stdout",
          "output_type": "stream",
          "text": [
            "<class 'pandas.core.frame.DataFrame'>\n",
            "RangeIndex: 19999 entries, 0 to 19998\n",
            "Data columns (total 4 columns):\n",
            " #   Column         Non-Null Count  Dtype \n",
            "---  ------         --------------  ----- \n",
            " 0   comment        19999 non-null  object\n",
            " 1   grade          19999 non-null  int64 \n",
            " 2   encoded_grade  19999 non-null  object\n",
            " 3   label          19999 non-null  object\n",
            "dtypes: int64(1), object(3)\n",
            "memory usage: 625.1+ KB\n"
          ]
        }
      ],
      "source": [
        "df.info()"
      ]
    },
    {
      "cell_type": "markdown",
      "metadata": {
        "id": "mIRg3FcotWoK"
      },
      "source": [
        "## Balancing the dataset"
      ]
    },
    {
      "cell_type": "code",
      "execution_count": 73,
      "metadata": {
        "colab": {
          "base_uri": "https://localhost:8080/",
          "height": 430
        },
        "id": "W8k8hBb8tWoK",
        "outputId": "67b4aaf8-e1bf-402e-d3e0-4d48db64cc31"
      },
      "outputs": [
        {
          "data": {
            "image/png": "[encoded data removed]",
            "text/plain": [
              "<Figure size 640x480 with 1 Axes>"
            ]
          },
          "metadata": {},
          "output_type": "display_data"
        }
      ],
      "source": [
        "plt.hist(df['label'])\n",
        "plt.show()"
      ]
    },
    {
      "cell_type": "code",
      "execution_count": 74,
      "metadata": {
        "colab": {
          "base_uri": "https://localhost:8080/"
        },
        "id": "-zMV74U_tWoK",
        "outputId": "138e1864-fd22-4c23-9237-de9369941b58"
      },
      "outputs": [
        {
          "name": "stdout",
          "output_type": "stream",
          "text": [
            "min_sample:  1286\n"
          ]
        }
      ],
      "source": [
        "unique_grades = df[\"label\"].unique()\n",
        "min_sample = df['label'].value_counts().min()\n",
        "print('min_sample: ', min_sample)"
      ]
    },
    {
      "cell_type": "code",
      "execution_count": 75,
      "metadata": {
        "id": "EvqN_eETtWoK"
      },
      "outputs": [],
      "source": [
        "df_balanced = pd.DataFrame()\n",
        "\n",
        "for label in df['label'].unique():\n",
        "    df_class = df[df['label'] == label]\n",
        "    df_class_downsampled = resample(\n",
        "        df_class,\n",
        "        replace=False,\n",
        "        n_samples=min_sample,\n",
        "        random_state=123\n",
        "    )\n",
        "    df_balanced = pd.concat([df_balanced, df_class_downsampled])"
      ]
    },
    {
      "cell_type": "code",
      "execution_count": 76,
      "metadata": {
        "colab": {
          "base_uri": "https://localhost:8080/",
          "height": 206
        },
        "id": "FW4w9jxDtWoK",
        "outputId": "f5243d59-7d1e-4dd5-a55e-ff4798bf9243"
      },
      "outputs": [
        {
          "data": {
            "application/vnd.google.colaboratory.intrinsic+json": {
              "summary": "{\n  \"name\": \"df_balanced\",\n  \"rows\": 3858,\n  \"fields\": [\n    {\n      \"column\": \"comment\",\n      \"properties\": {\n        \"dtype\": \"string\",\n        \"num_unique_values\": 3858,\n        \"samples\": [\n          \"\\u043d\\u0435 \\u0437\\u043d\\u0430\\u044e... \\u043a\\u0430\\u043a \\u0430\\u0431\\u0441\\u043e\\u043b\\u044e\\u0442\\u043d\\u043e \\u0431\\u0435\\u0437 \\u0432\\u043f\\u0435\\u0447\\u0430\\u0442\\u043b\\u0435\\u043d\\u0438\\u0439... \\u0432\\u043e\\u043e\\u0431\\u0449\\u0435...\",\n          \"\\u041e\\u0442\\u043b\\u0438\\u0447\\u043d\\u043e\\u0435 \\u043f\\u0440\\u043e\\u0438\\u0437\\u0432\\u0435\\u0434\\u0435\\u043d\\u0438\\u0435. \\u0420\\u0435\\u043a\\u043e\\u043c\\u0435\\u043d\\u0434\\u0443\\u044e. \\u0415\\u0441\\u0442\\u044c \\u0438 \\u043d\\u0430\\u0434 \\u0447\\u0435\\u043c \\u0437\\u0430\\u0434\\u0443\\u043c\\u0430\\u0442\\u044c\\u0441\\u044f, \\u0438 \\u0441 \\u0447\\u0435\\u0433\\u043e \\u043f\\u043e\\u0441\\u043c\\u0435\\u044f\\u0442\\u044c\\u0441\\u044f.\",\n          \"\\u0425\\u0440\\u0435\\u043d\\u044c \\u043f\\u043e\\u043b\\u043d\\u0430\\u044f! \\u041f\\u043e\\u0445\\u043e\\u0436\\u0435 \\u043d\\u0430 \\u043f\\u0435\\u0440\\u0435\\u043b\\u043e\\u0436\\u0435\\u043d\\u043d\\u044b\\u0439 \\u043d\\u0430 \\u0431\\u0443\\u043c\\u0430\\u0433\\u0443 \\u043a\\u0432\\u0435\\u0441\\u0442. \\u0425\\u043e\\u0434\\u044f\\u0442, \\u0438\\u0449\\u0443\\u0442, \\u043a\\u0430\\u0430\\u043a\\u0438\\u0435-\\u0442\\u043e \\u043f\\u043e\\u0434\\u0441\\u043a\\u0430\\u0437\\u043a\\u0438 \\u043d\\u0435\\u0438\\u043c\\u043e\\u0432\\u0435\\u0440\\u043d\\u044b\\u0435. \\u041a\\u043e\\u0440\\u043e\\u0447\\u0435, \\u043f\\u043e\\u0434\\u0434\\u0435\\u0440\\u0436\\u0438\\u0432\\u0430\\u044e amam - \\u0423\\u0416\\u041e\\u0421!\"\n        ],\n        \"semantic_type\": \"\",\n        \"description\": \"\"\n      }\n    },\n    {\n      \"column\": \"grade\",\n      \"properties\": {\n        \"dtype\": \"number\",\n        \"std\": 2,\n        \"min\": 1,\n        \"max\": 10,\n        \"num_unique_values\": 10,\n        \"samples\": [\n          2,\n          8,\n          5\n        ],\n        \"semantic_type\": \"\",\n        \"description\": \"\"\n      }\n    },\n    {\n      \"column\": \"encoded_grade\",\n      \"properties\": {\n        \"dtype\": \"object\",\n        \"semantic_type\": \"\",\n        \"description\": \"\"\n      }\n    },\n    {\n      \"column\": \"label\",\n      \"properties\": {\n        \"dtype\": \"category\",\n        \"num_unique_values\": 3,\n        \"samples\": [\n          \"good\",\n          \"neutral\",\n          \"bad\"\n        ],\n        \"semantic_type\": \"\",\n        \"description\": \"\"\n      }\n    }\n  ]\n}",
              "type": "dataframe",
              "variable_name": "df_balanced"
            },
            "text/html": [
              "\n",
              "  <div id=\"df-d9706088-69da-4a0b-a14d-3b28e6fd15f0\" class=\"colab-df-container\">\n",
              "    <div>\n",
              "<style scoped>\n",
              "    .dataframe tbody tr th:only-of-type {\n",
              "        vertical-align: middle;\n",
              "    }\n",
              "\n",
              "    .dataframe tbody tr th {\n",
              "        vertical-align: top;\n",
              "    }\n",
              "\n",
              "    .dataframe thead th {\n",
              "        text-align: right;\n",
              "    }\n",
              "</style>\n",
              "<table border=\"1\" class=\"dataframe\">\n",
              "  <thead>\n",
              "    <tr style=\"text-align: right;\">\n",
              "      <th></th>\n",
              "      <th>comment</th>\n",
              "      <th>grade</th>\n",
              "      <th>encoded_grade</th>\n",
              "      <th>label</th>\n",
              "    </tr>\n",
              "  </thead>\n",
              "  <tbody>\n",
              "    <tr>\n",
              "      <th>3651</th>\n",
              "      <td>Мне очень понравилось это произведение, как вп...</td>\n",
              "      <td>10</td>\n",
              "      <td>[0, 0, 1]</td>\n",
              "      <td>good</td>\n",
              "    </tr>\n",
              "    <tr>\n",
              "      <th>8398</th>\n",
              "      <td>Главный плюс этой книги - рассказ о проблеме р...</td>\n",
              "      <td>8</td>\n",
              "      <td>[0, 0, 1]</td>\n",
              "      <td>good</td>\n",
              "    </tr>\n",
              "    <tr>\n",
              "      <th>8372</th>\n",
              "      <td>В принципе гениальное произведение, но почему-...</td>\n",
              "      <td>9</td>\n",
              "      <td>[0, 0, 1]</td>\n",
              "      <td>good</td>\n",
              "    </tr>\n",
              "    <tr>\n",
              "      <th>19106</th>\n",
              "      <td>Очень ржачная комедия, но только первые две тр...</td>\n",
              "      <td>9</td>\n",
              "      <td>[0, 0, 1]</td>\n",
              "      <td>good</td>\n",
              "    </tr>\n",
              "    <tr>\n",
              "      <th>939</th>\n",
              "      <td>Наша бессмертная классика</td>\n",
              "      <td>9</td>\n",
              "      <td>[0, 0, 1]</td>\n",
              "      <td>good</td>\n",
              "    </tr>\n",
              "  </tbody>\n",
              "</table>\n",
              "</div>\n",
              "    <div class=\"colab-df-buttons\">\n",
              "\n",
              "  <div class=\"colab-df-container\">\n",
              "    <button class=\"colab-df-convert\" onclick=\"convertToInteractive('df-d9706088-69da-4a0b-a14d-3b28e6fd15f0')\"\n",
              "            title=\"Convert this dataframe to an interactive table.\"\n",
              "            style=\"display:none;\">\n",
              "\n",
              "  <svg xmlns=\"http://www.w3.org/2000/svg\" height=\"24px\" viewBox=\"0 -960 960 960\">\n",
              "    <path d=\"M120-120v-720h720v720H120Zm60-500h600v-160H180v160Zm220 220h160v-160H400v160Zm0 220h160v-160H400v160ZM180-400h160v-160H180v160Zm440 0h160v-160H620v160ZM180-180h160v-160H180v160Zm440 0h160v-160H620v160Z\"/>\n",
              "  </svg>\n",
              "    </button>\n",
              "\n",
              "  <style>\n",
              "    .colab-df-container {\n",
              "      display:flex;\n",
              "      gap: 12px;\n",
              "    }\n",
              "\n",
              "    .colab-df-convert {\n",
              "      background-color: #E8F0FE;\n",
              "      border: none;\n",
              "      border-radius: 50%;\n",
              "      cursor: pointer;\n",
              "      display: none;\n",
              "      fill: #1967D2;\n",
              "      height: 32px;\n",
              "      padding: 0 0 0 0;\n",
              "      width: 32px;\n",
              "    }\n",
              "\n",
              "    .colab-df-convert:hover {\n",
              "      background-color: #E2EBFA;\n",
              "      box-shadow: 0px 1px 2px rgba(60, 64, 67, 0.3), 0px 1px 3px 1px rgba(60, 64, 67, 0.15);\n",
              "      fill: #174EA6;\n",
              "    }\n",
              "\n",
              "    .colab-df-buttons div {\n",
              "      margin-bottom: 4px;\n",
              "    }\n",
              "\n",
              "    [theme=dark] .colab-df-convert {\n",
              "      background-color: #3B4455;\n",
              "      fill: #D2E3FC;\n",
              "    }\n",
              "\n",
              "    [theme=dark] .colab-df-convert:hover {\n",
              "      background-color: #434B5C;\n",
              "      box-shadow: 0px 1px 3px 1px rgba(0, 0, 0, 0.15);\n",
              "      filter: drop-shadow(0px 1px 2px rgba(0, 0, 0, 0.3));\n",
              "      fill: #FFFFFF;\n",
              "    }\n",
              "  </style>\n",
              "\n",
              "    <script>\n",
              "      const buttonEl =\n",
              "        document.querySelector('#df-d9706088-69da-4a0b-a14d-3b28e6fd15f0 button.colab-df-convert');\n",
              "      buttonEl.style.display =\n",
              "        google.colab.kernel.accessAllowed ? 'block' : 'none';\n",
              "\n",
              "      async function convertToInteractive(key) {\n",
              "        const element = document.querySelector('#df-d9706088-69da-4a0b-a14d-3b28e6fd15f0');\n",
              "        const dataTable =\n",
              "          await google.colab.kernel.invokeFunction('convertToInteractive',\n",
              "                                                    [key], {});\n",
              "        if (!dataTable) return;\n",
              "\n",
              "        const docLinkHtml = 'Like what you see? Visit the ' +\n",
              "          '<a target=\"_blank\" href=https://colab.research.google.com/notebooks/data_table.ipynb>data table notebook</a>'\n",
              "          + ' to learn more about interactive tables.';\n",
              "        element.innerHTML = '';\n",
              "        dataTable['output_type'] = 'display_data';\n",
              "        await google.colab.output.renderOutput(dataTable, element);\n",
              "        const docLink = document.createElement('div');\n",
              "        docLink.innerHTML = docLinkHtml;\n",
              "        element.appendChild(docLink);\n",
              "      }\n",
              "    </script>\n",
              "  </div>\n",
              "\n",
              "\n",
              "<div id=\"df-847fc575-dfa0-44a2-bc59-df52f943394e\">\n",
              "  <button class=\"colab-df-quickchart\" onclick=\"quickchart('df-847fc575-dfa0-44a2-bc59-df52f943394e')\"\n",
              "            title=\"Suggest charts\"\n",
              "            style=\"display:none;\">\n",
              "\n",
              "<svg xmlns=\"http://www.w3.org/2000/svg\" height=\"24px\"viewBox=\"0 0 24 24\"\n",
              "     width=\"24px\">\n",
              "    <g>\n",
              "        <path d=\"M19 3H5c-1.1 0-2 .9-2 2v14c0 1.1.9 2 2 2h14c1.1 0 2-.9 2-2V5c0-1.1-.9-2-2-2zM9 17H7v-7h2v7zm4 0h-2V7h2v10zm4 0h-2v-4h2v4z\"/>\n",
              "    </g>\n",
              "</svg>\n",
              "  </button>\n",
              "\n",
              "<style>\n",
              "  .colab-df-quickchart {\n",
              "      --bg-color: #E8F0FE;\n",
              "      --fill-color: #1967D2;\n",
              "      --hover-bg-color: #E2EBFA;\n",
              "      --hover-fill-color: #174EA6;\n",
              "      --disabled-fill-color: #AAA;\n",
              "      --disabled-bg-color: #DDD;\n",
              "  }\n",
              "\n",
              "  [theme=dark] .colab-df-quickchart {\n",
              "      --bg-color: #3B4455;\n",
              "      --fill-color: #D2E3FC;\n",
              "      --hover-bg-color: #434B5C;\n",
              "      --hover-fill-color: #FFFFFF;\n",
              "      --disabled-bg-color: #3B4455;\n",
              "      --disabled-fill-color: #666;\n",
              "  }\n",
              "\n",
              "  .colab-df-quickchart {\n",
              "    background-color: var(--bg-color);\n",
              "    border: none;\n",
              "    border-radius: 50%;\n",
              "    cursor: pointer;\n",
              "    display: none;\n",
              "    fill: var(--fill-color);\n",
              "    height: 32px;\n",
              "    padding: 0;\n",
              "    width: 32px;\n",
              "  }\n",
              "\n",
              "  .colab-df-quickchart:hover {\n",
              "    background-color: var(--hover-bg-color);\n",
              "    box-shadow: 0 1px 2px rgba(60, 64, 67, 0.3), 0 1px 3px 1px rgba(60, 64, 67, 0.15);\n",
              "    fill: var(--button-hover-fill-color);\n",
              "  }\n",
              "\n",
              "  .colab-df-quickchart-complete:disabled,\n",
              "  .colab-df-quickchart-complete:disabled:hover {\n",
              "    background-color: var(--disabled-bg-color);\n",
              "    fill: var(--disabled-fill-color);\n",
              "    box-shadow: none;\n",
              "  }\n",
              "\n",
              "  .colab-df-spinner {\n",
              "    border: 2px solid var(--fill-color);\n",
              "    border-color: transparent;\n",
              "    border-bottom-color: var(--fill-color);\n",
              "    animation:\n",
              "      spin 1s steps(1) infinite;\n",
              "  }\n",
              "\n",
              "  @keyframes spin {\n",
              "    0% {\n",
              "      border-color: transparent;\n",
              "      border-bottom-color: var(--fill-color);\n",
              "      border-left-color: var(--fill-color);\n",
              "    }\n",
              "    20% {\n",
              "      border-color: transparent;\n",
              "      border-left-color: var(--fill-color);\n",
              "      border-top-color: var(--fill-color);\n",
              "    }\n",
              "    30% {\n",
              "      border-color: transparent;\n",
              "      border-left-color: var(--fill-color);\n",
              "      border-top-color: var(--fill-color);\n",
              "      border-right-color: var(--fill-color);\n",
              "    }\n",
              "    40% {\n",
              "      border-color: transparent;\n",
              "      border-right-color: var(--fill-color);\n",
              "      border-top-color: var(--fill-color);\n",
              "    }\n",
              "    60% {\n",
              "      border-color: transparent;\n",
              "      border-right-color: var(--fill-color);\n",
              "    }\n",
              "    80% {\n",
              "      border-color: transparent;\n",
              "      border-right-color: var(--fill-color);\n",
              "      border-bottom-color: var(--fill-color);\n",
              "    }\n",
              "    90% {\n",
              "      border-color: transparent;\n",
              "      border-bottom-color: var(--fill-color);\n",
              "    }\n",
              "  }\n",
              "</style>\n",
              "\n",
              "  <script>\n",
              "    async function quickchart(key) {\n",
              "      const quickchartButtonEl =\n",
              "        document.querySelector('#' + key + ' button');\n",
              "      quickchartButtonEl.disabled = true;  // To prevent multiple clicks.\n",
              "      quickchartButtonEl.classList.add('colab-df-spinner');\n",
              "      try {\n",
              "        const charts = await google.colab.kernel.invokeFunction(\n",
              "            'suggestCharts', [key], {});\n",
              "      } catch (error) {\n",
              "        console.error('Error during call to suggestCharts:', error);\n",
              "      }\n",
              "      quickchartButtonEl.classList.remove('colab-df-spinner');\n",
              "      quickchartButtonEl.classList.add('colab-df-quickchart-complete');\n",
              "    }\n",
              "    (() => {\n",
              "      let quickchartButtonEl =\n",
              "        document.querySelector('#df-847fc575-dfa0-44a2-bc59-df52f943394e button');\n",
              "      quickchartButtonEl.style.display =\n",
              "        google.colab.kernel.accessAllowed ? 'block' : 'none';\n",
              "    })();\n",
              "  </script>\n",
              "</div>\n",
              "\n",
              "    </div>\n",
              "  </div>\n"
            ],
            "text/plain": [
              "                                                 comment  grade encoded_grade  \\\n",
              "3651   Мне очень понравилось это произведение, как вп...     10     [0, 0, 1]   \n",
              "8398   Главный плюс этой книги - рассказ о проблеме р...      8     [0, 0, 1]   \n",
              "8372   В принципе гениальное произведение, но почему-...      9     [0, 0, 1]   \n",
              "19106  Очень ржачная комедия, но только первые две тр...      9     [0, 0, 1]   \n",
              "939                            Наша бессмертная классика      9     [0, 0, 1]   \n",
              "\n",
              "      label  \n",
              "3651   good  \n",
              "8398   good  \n",
              "8372   good  \n",
              "19106  good  \n",
              "939    good  "
            ]
          },
          "execution_count": 76,
          "metadata": {},
          "output_type": "execute_result"
        }
      ],
      "source": [
        "df_balanced.head()"
      ]
    },
    {
      "cell_type": "code",
      "execution_count": 77,
      "metadata": {
        "colab": {
          "base_uri": "https://localhost:8080/"
        },
        "id": "HqVWiSBNtWoK",
        "outputId": "3c3ea919-76dd-4e34-a569-8cea616b6052"
      },
      "outputs": [
        {
          "name": "stdout",
          "output_type": "stream",
          "text": [
            "<class 'pandas.core.frame.DataFrame'>\n",
            "Index: 3858 entries, 3651 to 17860\n",
            "Data columns (total 4 columns):\n",
            " #   Column         Non-Null Count  Dtype \n",
            "---  ------         --------------  ----- \n",
            " 0   comment        3858 non-null   object\n",
            " 1   grade          3858 non-null   int64 \n",
            " 2   encoded_grade  3858 non-null   object\n",
            " 3   label          3858 non-null   object\n",
            "dtypes: int64(1), object(3)\n",
            "memory usage: 150.7+ KB\n"
          ]
        }
      ],
      "source": [
        "df_balanced.info()"
      ]
    },
    {
      "cell_type": "code",
      "execution_count": 78,
      "metadata": {
        "colab": {
          "base_uri": "https://localhost:8080/",
          "height": 430
        },
        "id": "v1jcavshtWoK",
        "outputId": "c58b85a7-6fc0-48c9-d64c-1bca89c2b93b"
      },
      "outputs": [
        {
          "data": {
            "image/png": "[encoded data removed]",
            "text/plain": [
              "<Figure size 640x480 with 1 Axes>"
            ]
          },
          "metadata": {},
          "output_type": "display_data"
        }
      ],
      "source": [
        "plt.hist(df_balanced['label'])\n",
        "plt.show()"
      ]
    },
    {
      "cell_type": "markdown",
      "metadata": {
        "id": "vGCVP-hZtWoK"
      },
      "source": [
        "## Preprocessing"
      ]
    },
    {
      "cell_type": "code",
      "execution_count": 79,
      "metadata": {
        "colab": {
          "base_uri": "https://localhost:8080/"
        },
        "id": "v7rWTOL0zIzc",
        "outputId": "6cdb86ff-9261-45c5-925a-1638465d25fa"
      },
      "outputs": [
        {
          "name": "stdout",
          "output_type": "stream",
          "text": [
            "!\"#$%&'()*+,-./:;<=>?@[\\]^_`{|}~\n"
          ]
        }
      ],
      "source": [
        "from string import punctuation\n",
        "print(punctuation)"
      ]
    },
    {
      "cell_type": "code",
      "execution_count": 80,
      "metadata": {
        "id": "zhilNwNKtWoL"
      },
      "outputs": [],
      "source": [
        "comments = df_balanced['comment'].values"
      ]
    },
    {
      "cell_type": "code",
      "execution_count": 81,
      "metadata": {
        "id": "3VAqlxfFzIzd"
      },
      "outputs": [],
      "source": [
        "def preprocessing(text: str) -> list[str]:\n",
        "    text = text.lower()\n",
        "    text = ''.join([c for c in text if c not in punctuation])\n",
        "    text = text.split(' ')\n",
        "    return text"
      ]
    },
    {
      "cell_type": "code",
      "execution_count": 82,
      "metadata": {
        "id": "QHkHMWe5zIze"
      },
      "outputs": [],
      "source": [
        "tokenized_corpus = [preprocessing(comment) for comment in comments]"
      ]
    },
    {
      "cell_type": "code",
      "execution_count": 83,
      "metadata": {
        "colab": {
          "base_uri": "https://localhost:8080/"
        },
        "id": "Ktj1nG3JzIzf",
        "outputId": "16318701-1788-4c6a-9332-dad90d877e49"
      },
      "outputs": [
        {
          "data": {
            "text/plain": [
              "[['мне',\n",
              "  'очень',\n",
              "  'понравилось',\n",
              "  'это',\n",
              "  'произведение',\n",
              "  'как',\n",
              "  'впрочем',\n",
              "  'и',\n",
              "  'все',\n",
              "  'у',\n",
              "  'татьяны',\n",
              "  'устиновой',\n",
              "  'оно',\n",
              "  'немного',\n",
              "  'не',\n",
              "  'похоже',\n",
              "  'на',\n",
              "  'другие',\n",
              "  'ее',\n",
              "  'романы',\n",
              "  'но',\n",
              "  'именно',\n",
              "  'этим',\n",
              "  'и',\n",
              "  'интересно',\n",
              "  'захватывающий',\n",
              "  'сюжет',\n",
              "  'все',\n",
              "  'детали',\n",
              "  'взвешены',\n",
              "  'и',\n",
              "  'продуманы',\n",
              "  'до',\n",
              "  'мелочей',\n",
              "  'любовная',\n",
              "  'линия',\n",
              "  'романтична',\n",
              "  'и',\n",
              "  'ненавязчива',\n",
              "  'и',\n",
              "  'все',\n",
              "  'хорошо',\n",
              "  'заканчивается',\n",
              "  'почитаешь',\n",
              "  'такой',\n",
              "  'роман',\n",
              "  'и',\n",
              "  'жить',\n",
              "  'становится',\n",
              "  'легче',\n",
              "  'и',\n",
              "  'веселей',\n",
              "  'потому',\n",
              "  'что',\n",
              "  'у',\n",
              "  'устиновой',\n",
              "  'очень',\n",
              "  'тонкий',\n",
              "  'приятный',\n",
              "  'юмор',\n",
              "  'смешной',\n",
              "  'если',\n",
              "  'так',\n",
              "  'можно',\n",
              "  'выразиться',\n",
              "  'и',\n",
              "  'добро',\n",
              "  'побеждает',\n",
              "  'зло',\n",
              "  'и',\n",
              "  'от',\n",
              "  'этого',\n",
              "  'лучше',\n",
              "  'и',\n",
              "  'спокойно',\n",
              "  'делается',\n",
              "  'на',\n",
              "  'душе',\n",
              "  'и',\n",
              "  'еще',\n",
              "  'меня',\n",
              "  'очень',\n",
              "  'привлекает',\n",
              "  'в',\n",
              "  'произведениях',\n",
              "  'этого',\n",
              "  'автора',\n",
              "  'особенно',\n",
              "  'в',\n",
              "  'фантоме',\n",
              "  'великолепное',\n",
              "  'знание',\n",
              "  'почти',\n",
              "  'наизусть',\n",
              "  'наших',\n",
              "  'отечественных',\n",
              "  'старых',\n",
              "  'фильмов',\n",
              "  'фраз',\n",
              "  'из',\n",
              "  'них',\n",
              "  'особенно',\n",
              "  'из',\n",
              "  'комедий',\n",
              "  'я',\n",
              "  'сама',\n",
              "  'их',\n",
              "  'хорошо',\n",
              "  'знаю',\n",
              "  'и',\n",
              "  'поэтому',\n",
              "  'интереснее',\n",
              "  'читать',\n",
              "  'вдвойне',\n",
              "  'хочется',\n",
              "  'сказать',\n",
              "  'спасибо',\n",
              "  'пишите',\n",
              "  'больше',\n",
              "  'дорогая',\n",
              "  'татьяна',\n",
              "  'устинова'],\n",
              " ['главный',\n",
              "  'плюс',\n",
              "  'этой',\n",
              "  'книги',\n",
              "  '',\n",
              "  'рассказ',\n",
              "  'о',\n",
              "  'проблеме',\n",
              "  'рейдерства',\n",
              "  'до',\n",
              "  'селе',\n",
              "  'неизвестного',\n",
              "  'широкой',\n",
              "  'публике',\n",
              "  'вида',\n",
              "  'рэкета',\n",
              "  'или',\n",
              "  'кидалова',\n",
              "  'в',\n",
              "  'русском',\n",
              "  'бизнесе',\n",
              "  'в',\n",
              "  'общем',\n",
              "  'книга',\n",
              "  'понравилась',\n",
              "  'динамичный',\n",
              "  'сюжет',\n",
              "  'много',\n",
              "  'экшн',\n",
              "  'интересные',\n",
              "  'юридические',\n",
              "  'ньюансы',\n",
              "  '',\n",
              "  'советую',\n",
              "  'прочесть'],\n",
              " ['в',\n",
              "  'принципе',\n",
              "  'гениальное',\n",
              "  'произведение',\n",
              "  'но',\n",
              "  'почемуто',\n",
              "  'не',\n",
              "  '10',\n",
              "  'наверное',\n",
              "  'потому',\n",
              "  'что',\n",
              "  'я',\n",
              "  'люблю',\n",
              "  'все',\n",
              "  'же',\n",
              "  'более',\n",
              "  'реалистичные',\n",
              "  'темы',\n",
              "  'здесь',\n",
              "  'же',\n",
              "  'я',\n",
              "  'встретил',\n",
              "  'больше',\n",
              "  'аллегории',\n",
              "  'и',\n",
              "  'много',\n",
              "  'отдельных',\n",
              "  'хотя',\n",
              "  'и',\n",
              "  'очень',\n",
              "  'ценных',\n",
              "  'размышлений',\n",
              "  'мудро',\n",
              "  'красиво',\n",
              "  'заставляет',\n",
              "  'задуматься',\n",
              "  'но',\n",
              "  'при',\n",
              "  'этом',\n",
              "  'сюжета',\n",
              "  'в',\n",
              "  'голове',\n",
              "  'не',\n",
              "  'осталось'],\n",
              " ['очень',\n",
              "  'ржачная',\n",
              "  'комедия',\n",
              "  'но',\n",
              "  'только',\n",
              "  'первые',\n",
              "  'две',\n",
              "  'третьи',\n",
              "  'а',\n",
              "  'потом',\n",
              "  'начинается',\n",
              "  'еле',\n",
              "  'смешное',\n",
              "  'мыло',\n",
              "  'за',\n",
              "  'что',\n",
              "  'собственно',\n",
              "  'я',\n",
              "  'и',\n",
              "  'снизил',\n",
              "  '1',\n",
              "  'балл',\n",
              "  'а',\n",
              "  'так',\n",
              "  'смотреть',\n",
              "  'очень',\n",
              "  'даже',\n",
              "  'стоит'],\n",
              " ['наша', 'бессмертная', 'классика']]"
            ]
          },
          "execution_count": 83,
          "metadata": {},
          "output_type": "execute_result"
        }
      ],
      "source": [
        "tokenized_corpus[:5]"
      ]
    },
    {
      "cell_type": "code",
      "execution_count": null,
      "metadata": {
        "colab": {
          "base_uri": "https://localhost:8080/"
        },
        "id": "_sIPtdewzIzf",
        "outputId": "dc647f06-8d8b-459d-8402-f354a5484123"
      },
      "outputs": [],
      "source": [
        "vocabulary = []\n",
        "for sentence in tokenized_corpus:\n",
        "    for token in sentence:\n",
        "        if token not in vocabulary:\n",
        "            vocabulary.append(token)\n",
        "\n",
        "word2idx = {w: idx for (idx, w) in enumerate(vocabulary)}\n",
        "idx2word = {idx: w for (idx, w) in enumerate(vocabulary)}\n",
        "\n",
        "vocabulary_size = len(vocabulary)\n",
        "print(vocabulary[:10])"
      ]
    },
    {
      "cell_type": "code",
      "execution_count": 85,
      "metadata": {
        "colab": {
          "base_uri": "https://localhost:8080/"
        },
        "id": "sIroH-XMzIzg",
        "outputId": "f190b747-c5c0-4e2a-cba9-4ce6383b415b"
      },
      "outputs": [
        {
          "data": {
            "text/plain": [
              "47210"
            ]
          },
          "execution_count": 85,
          "metadata": {},
          "output_type": "execute_result"
        }
      ],
      "source": [
        "len(vocabulary)"
      ]
    },
    {
      "cell_type": "code",
      "execution_count": 86,
      "metadata": {
        "colab": {
          "base_uri": "https://localhost:8080/"
        },
        "id": "P1nKbeMktWoL",
        "outputId": "17c0bde3-d452-47ba-f279-e11c3a04240a"
      },
      "outputs": [
        {
          "data": {
            "text/plain": [
              "(37483, 'ок')"
            ]
          },
          "execution_count": 86,
          "metadata": {},
          "output_type": "execute_result"
        }
      ],
      "source": [
        "word2idx['ок'], idx2word[word2idx['ок']]"
      ]
    },
    {
      "cell_type": "code",
      "execution_count": 87,
      "metadata": {
        "id": "nn_eOHA-zIzi"
      },
      "outputs": [],
      "source": [
        "comment_in_num = []\n",
        "for sentence in tokenized_corpus:\n",
        "    comment_in_num.append([word2idx[word] for word in sentence])"
      ]
    },
    {
      "cell_type": "code",
      "execution_count": 88,
      "metadata": {
        "colab": {
          "base_uri": "https://localhost:8080/"
        },
        "id": "uEQ29SpmzIzi",
        "outputId": "97b1880d-be7b-4598-c270-12d978e1004c"
      },
      "outputs": [
        {
          "data": {
            "text/plain": [
              "True"
            ]
          },
          "execution_count": 88,
          "metadata": {},
          "output_type": "execute_result"
        }
      ],
      "source": [
        "len(comment_in_num) == len(tokenized_corpus) == len(df_balanced['encoded_grade'].values)"
      ]
    },
    {
      "cell_type": "code",
      "execution_count": 89,
      "metadata": {
        "colab": {
          "base_uri": "https://localhost:8080/",
          "height": 748
        },
        "id": "LeWRVyZhzIzi",
        "outputId": "b9f29be4-a13a-4ea7-c1ca-6a4c69aed8a0"
      },
      "outputs": [
        {
          "data": {
            "image/png": "[encoded data removed]",
            "text/plain": [
              "<Figure size 640x480 with 1 Axes>"
            ]
          },
          "metadata": {},
          "output_type": "display_data"
        },
        {
          "data": {
            "text/html": [
              "<div>\n",
              "<style scoped>\n",
              "    .dataframe tbody tr th:only-of-type {\n",
              "        vertical-align: middle;\n",
              "    }\n",
              "\n",
              "    .dataframe tbody tr th {\n",
              "        vertical-align: top;\n",
              "    }\n",
              "\n",
              "    .dataframe thead th {\n",
              "        text-align: right;\n",
              "    }\n",
              "</style>\n",
              "<table border=\"1\" class=\"dataframe\">\n",
              "  <thead>\n",
              "    <tr style=\"text-align: right;\">\n",
              "      <th></th>\n",
              "      <th>0</th>\n",
              "    </tr>\n",
              "  </thead>\n",
              "  <tbody>\n",
              "    <tr>\n",
              "      <th>count</th>\n",
              "      <td>3858.000000</td>\n",
              "    </tr>\n",
              "    <tr>\n",
              "      <th>mean</th>\n",
              "      <td>54.540435</td>\n",
              "    </tr>\n",
              "    <tr>\n",
              "      <th>std</th>\n",
              "      <td>108.506829</td>\n",
              "    </tr>\n",
              "    <tr>\n",
              "      <th>min</th>\n",
              "      <td>1.000000</td>\n",
              "    </tr>\n",
              "    <tr>\n",
              "      <th>25%</th>\n",
              "      <td>11.000000</td>\n",
              "    </tr>\n",
              "    <tr>\n",
              "      <th>50%</th>\n",
              "      <td>24.000000</td>\n",
              "    </tr>\n",
              "    <tr>\n",
              "      <th>75%</th>\n",
              "      <td>53.000000</td>\n",
              "    </tr>\n",
              "    <tr>\n",
              "      <th>max</th>\n",
              "      <td>3187.000000</td>\n",
              "    </tr>\n",
              "  </tbody>\n",
              "</table>\n",
              "</div><br><label><b>dtype:</b> float64</label>"
            ],
            "text/plain": [
              "count    3858.000000\n",
              "mean       54.540435\n",
              "std       108.506829\n",
              "min         1.000000\n",
              "25%        11.000000\n",
              "50%        24.000000\n",
              "75%        53.000000\n",
              "max      3187.000000\n",
              "dtype: float64"
            ]
          },
          "execution_count": 89,
          "metadata": {},
          "output_type": "execute_result"
        }
      ],
      "source": [
        "comment_len = [len(x) for x in comment_in_num]\n",
        "pd.Series(comment_len).hist()\n",
        "plt.show()\n",
        "pd.Series(comment_len).describe()"
      ]
    },
    {
      "cell_type": "code",
      "execution_count": 90,
      "metadata": {
        "id": "6EoYh33AzIzj"
      },
      "outputs": [],
      "source": [
        "def pad_features(reviews_int: list[list[int]], seq_length: int) -> np.ndarray:\n",
        "    #Return features of review_ints, where each review is padded with 0's or truncated to the input seq_length.\n",
        "    features = np.zeros((len(reviews_int), seq_length), dtype = int)\n",
        "\n",
        "    for i, review in enumerate(reviews_int):\n",
        "        review_len = len(review)\n",
        "\n",
        "        if review_len <= seq_length:\n",
        "            zeroes = list(np.zeros(seq_length-review_len))\n",
        "            new = zeroes+review\n",
        "        elif review_len > seq_length:\n",
        "            new = review[0:seq_length]\n",
        "\n",
        "        features[i,:] = np.array(new)\n",
        "\n",
        "    return features"
      ]
    },
    {
      "cell_type": "code",
      "execution_count": 91,
      "metadata": {
        "id": "DyyWlxL0tWoL"
      },
      "outputs": [],
      "source": [
        "EMBEDDING_DIM = 200"
      ]
    },
    {
      "cell_type": "code",
      "execution_count": 92,
      "metadata": {
        "id": "dwT1re03zIzj"
      },
      "outputs": [],
      "source": [
        "features = pad_features(comment_in_num, EMBEDDING_DIM)"
      ]
    },
    {
      "cell_type": "code",
      "execution_count": 93,
      "metadata": {
        "colab": {
          "base_uri": "https://localhost:8080/"
        },
        "id": "HbX5C2XnzIzj",
        "outputId": "2f99b41e-5c4e-4b8c-a805-2848ef8a3aa8"
      },
      "outputs": [
        {
          "data": {
            "text/plain": [
              "array([[    0,     0,     0, ...,    96,    97,    98],\n",
              "       [    0,     0,     0, ...,   103,   127,   128],\n",
              "       [    0,     0,     0, ...,   153,    14,   154],\n",
              "       ...,\n",
              "       [    0,     0,     0, ...,   312,  3945, 14736],\n",
              "       [    0,     0,     0, ...,    81,   821,  4660],\n",
              "       [    0,     0,     0, ..., 47209,     7, 19781]])"
            ]
          },
          "execution_count": 93,
          "metadata": {},
          "output_type": "execute_result"
        }
      ],
      "source": [
        "features"
      ]
    },
    {
      "cell_type": "markdown",
      "metadata": {
        "id": "pxknl68etWoM"
      },
      "source": [
        "## Split the data into train and test"
      ]
    },
    {
      "cell_type": "code",
      "execution_count": 94,
      "metadata": {
        "id": "NEO5vwQ6tWoM"
      },
      "outputs": [],
      "source": [
        "encoded_grades = df_balanced['encoded_grade'].values\n",
        "encoded_grades = np.array([list(grade) for grade in encoded_grades])"
      ]
    },
    {
      "cell_type": "code",
      "execution_count": 95,
      "metadata": {
        "id": "dp3QvQ2vzIzk"
      },
      "outputs": [],
      "source": [
        "X_train, X_test, y_train, y_test = train_test_split(\n",
        "    np.array(features),\n",
        "    encoded_grades,\n",
        "    test_size=0.20,\n",
        "    random_state=42\n",
        ")"
      ]
    },
    {
      "cell_type": "code",
      "execution_count": 96,
      "metadata": {
        "colab": {
          "base_uri": "https://localhost:8080/"
        },
        "id": "1q2eHp6RzIzk",
        "outputId": "d9d966fa-a1b1-44f1-a6c2-664d961009b4"
      },
      "outputs": [
        {
          "data": {
            "text/plain": [
              "(3086, 772)"
            ]
          },
          "execution_count": 96,
          "metadata": {},
          "output_type": "execute_result"
        }
      ],
      "source": [
        "len(X_train), len(X_test)"
      ]
    },
    {
      "cell_type": "markdown",
      "metadata": {
        "id": "dyIllRugtWoQ"
      },
      "source": [
        "## Create Tensor Dataset, DataLoader"
      ]
    },
    {
      "cell_type": "code",
      "execution_count": 97,
      "metadata": {
        "id": "FlnKfEpXtWoQ"
      },
      "outputs": [],
      "source": [
        "BATCH_SIZE = 32"
      ]
    },
    {
      "cell_type": "code",
      "execution_count": 98,
      "metadata": {
        "id": "eEBFFOUstWoQ"
      },
      "outputs": [],
      "source": [
        "train_data = TensorDataset(torch.from_numpy(X_train), torch.from_numpy(y_train))\n",
        "test_data = TensorDataset(torch.from_numpy(X_test), torch.from_numpy(y_test))"
      ]
    },
    {
      "cell_type": "code",
      "execution_count": 99,
      "metadata": {
        "id": "bSv1f32EtWoQ"
      },
      "outputs": [],
      "source": [
        "train_loader = DataLoader(train_data, shuffle=True, batch_size=BATCH_SIZE, drop_last=True)\n",
        "test_loader = DataLoader(test_data, shuffle=True, batch_size=BATCH_SIZE, drop_last=True)"
      ]
    },
    {
      "cell_type": "markdown",
      "metadata": {
        "id": "ayHWrCYltWoR"
      },
      "source": [
        "## Model"
      ]
    },
    {
      "cell_type": "markdown",
      "metadata": {
        "id": "wSLZ6z_fzIzm"
      },
      "source": [
        "<li>Tokenize : This is not a layer for LSTM network but a mandatory step of converting our words into tokens (integers)\n",
        "<li>Embedding Layer: that converts our word tokens (integers) into embedding of specific size\n",
        "<li>LSTM Layer: defined by hidden state dims and number of layers\n",
        "<li>Fully Connected Layer: that maps output of LSTM layer to a desired output size\n",
        "<li>Softmax Activation Layer: that turns scores into probabilities\n",
        "<li>Output: Softmax output from the last timestep is considered as the final output of this network"
      ]
    },
    {
      "cell_type": "code",
      "execution_count": 100,
      "metadata": {
        "id": "jOWcGlTIzIzm"
      },
      "outputs": [],
      "source": [
        "class SentimentLSTM(nn.Module):\n",
        "    def __init__(self, vocab_size, output_size, embedding_dim, hidden_dim, n_layers, drop_prob=0.5):\n",
        "        super().__init__()\n",
        "        self.output_size = output_size\n",
        "        self.n_layers = n_layers\n",
        "        self.hidden_dim = hidden_dim\n",
        "\n",
        "        self.embedding = nn.Embedding(vocab_size, embedding_dim)\n",
        "        self.lstm = nn.LSTM(\n",
        "            embedding_dim, hidden_dim, n_layers,\n",
        "            dropout=drop_prob, batch_first=True\n",
        "        )\n",
        "        self.dropout = nn.Dropout(0.3)\n",
        "        self.fc = nn.Linear(hidden_dim, output_size)\n",
        "        self.activation = nn.Softmax(dim=1)\n",
        "\n",
        "    def forward(self, x, hidden):\n",
        "        batch_size = x.size(0)\n",
        "\n",
        "        embeds = self.embedding(x)\n",
        "        lstm_out, hidden = self.lstm(embeds, hidden)\n",
        "\n",
        "        out = self.dropout(lstm_out[:, -1, :])\n",
        "        out = self.fc(out)\n",
        "\n",
        "        out = self.activation(out)\n",
        "\n",
        "        out = out.view(batch_size, -1)\n",
        "\n",
        "        return out, hidden\n",
        "\n",
        "    def init_hidden(self, batch_size):\n",
        "        weight = next(self.parameters()).data\n",
        "\n",
        "        if torch.cuda.is_available():\n",
        "            hidden = (weight.new(self.n_layers, batch_size, self.hidden_dim).zero_().cuda(),\n",
        "                      weight.new(self.n_layers, batch_size, self.hidden_dim).zero_().cuda())\n",
        "        else:\n",
        "            hidden = (weight.new(self.n_layers, batch_size, self.hidden_dim).zero_(),\n",
        "                      weight.new(self.n_layers, batch_size, self.hidden_dim).zero_())\n",
        "\n",
        "        return hidden"
      ]
    },
    {
      "cell_type": "code",
      "execution_count": 101,
      "metadata": {
        "id": "glcYTHcCtWoR"
      },
      "outputs": [],
      "source": [
        "vocab_size = len(vocabulary)+1 # +1 for the 0 padding\n",
        "output_size = 3 # good, neutral, bad\n",
        "hidden_dim = 256\n",
        "n_layers = 2\n",
        "model = SentimentLSTM(vocab_size, output_size, EMBEDDING_DIM, hidden_dim, n_layers)"
      ]
    },
    {
      "cell_type": "code",
      "execution_count": 102,
      "metadata": {
        "colab": {
          "base_uri": "https://localhost:8080/"
        },
        "id": "8ziRgx1atWoR",
        "outputId": "d5347a88-67b2-4b4b-a458-6480b9da96d6"
      },
      "outputs": [
        {
          "name": "stdout",
          "output_type": "stream",
          "text": [
            "SentimentLSTM(\n",
            "  (embedding): Embedding(47211, 200)\n",
            "  (lstm): LSTM(200, 256, num_layers=2, batch_first=True, dropout=0.5)\n",
            "  (dropout): Dropout(p=0.3, inplace=False)\n",
            "  (fc): Linear(in_features=256, out_features=3, bias=True)\n",
            "  (activation): Softmax(dim=1)\n",
            ")\n"
          ]
        }
      ],
      "source": [
        "print(model)"
      ]
    },
    {
      "cell_type": "code",
      "execution_count": 103,
      "metadata": {
        "id": "LLBercCjzIzo"
      },
      "outputs": [],
      "source": [
        "criterion = nn.CrossEntropyLoss()\n",
        "optimizer = torch.optim.Adam(model.parameters(), lr=0.001)"
      ]
    },
    {
      "cell_type": "code",
      "execution_count": 104,
      "metadata": {
        "id": "eWx2WxUFtWoR"
      },
      "outputs": [],
      "source": [
        "clip = 5 # gradient clipping\n",
        "epochs = 25"
      ]
    },
    {
      "cell_type": "markdown",
      "metadata": {
        "id": "98bkx4Nt79jL"
      },
      "source": [
        "## Train the model"
      ]
    },
    {
      "cell_type": "code",
      "execution_count": 105,
      "metadata": {
        "colab": {
          "base_uri": "https://localhost:8080/"
        },
        "id": "9tBH2J0vtWoR",
        "outputId": "de3be495-f1a7-4189-e582-a8a43910ced3"
      },
      "outputs": [
        {
          "name": "stderr",
          "output_type": "stream",
          "text": [
            "  4%|▍         | 1/25 [00:02<01:11,  2.96s/it]"
          ]
        },
        {
          "name": "stdout",
          "output_type": "stream",
          "text": [
            "| Train Loss: 1.0895545954505603 | Test Loss: 1.0506590213626623\n"
          ]
        },
        {
          "name": "stderr",
          "output_type": "stream",
          "text": [
            "  8%|▊         | 2/25 [00:05<01:07,  2.93s/it]"
          ]
        },
        {
          "name": "stdout",
          "output_type": "stream",
          "text": [
            "| Train Loss: 1.0068710359434287 | Test Loss: 0.8668922061721483\n"
          ]
        },
        {
          "name": "stderr",
          "output_type": "stream",
          "text": [
            " 12%|█▏        | 3/25 [00:08<01:03,  2.90s/it]"
          ]
        },
        {
          "name": "stdout",
          "output_type": "stream",
          "text": [
            "| Train Loss: 0.9731658591578404 | Test Loss: 1.10989979095757\n"
          ]
        },
        {
          "name": "stderr",
          "output_type": "stream",
          "text": [
            " 16%|█▌        | 4/25 [00:11<01:00,  2.88s/it]"
          ]
        },
        {
          "name": "stdout",
          "output_type": "stream",
          "text": [
            "| Train Loss: 1.0776956857492526 | Test Loss: 0.9821206654111544\n"
          ]
        },
        {
          "name": "stderr",
          "output_type": "stream",
          "text": [
            " 20%|██        | 5/25 [00:14<00:57,  2.87s/it]"
          ]
        },
        {
          "name": "stdout",
          "output_type": "stream",
          "text": [
            "| Train Loss: 0.9250891183813413 | Test Loss: 0.7790488246828318\n"
          ]
        },
        {
          "name": "stderr",
          "output_type": "stream",
          "text": [
            " 24%|██▍       | 6/25 [00:17<00:54,  2.88s/it]"
          ]
        },
        {
          "name": "stdout",
          "output_type": "stream",
          "text": [
            "| Train Loss: 0.7773878381898006 | Test Loss: 0.7309177971134583\n"
          ]
        },
        {
          "name": "stderr",
          "output_type": "stream",
          "text": [
            " 28%|██▊       | 7/25 [00:20<00:52,  2.89s/it]"
          ]
        },
        {
          "name": "stdout",
          "output_type": "stream",
          "text": [
            "| Train Loss: 0.7166980225592852 | Test Loss: 0.6732797945539156\n"
          ]
        },
        {
          "name": "stderr",
          "output_type": "stream",
          "text": [
            " 32%|███▏      | 8/25 [00:23<00:49,  2.89s/it]"
          ]
        },
        {
          "name": "stdout",
          "output_type": "stream",
          "text": [
            "| Train Loss: 0.6751614641398191 | Test Loss: 0.6535815801471472\n"
          ]
        },
        {
          "name": "stderr",
          "output_type": "stream",
          "text": [
            " 36%|███▌      | 9/25 [00:25<00:46,  2.88s/it]"
          ]
        },
        {
          "name": "stdout",
          "output_type": "stream",
          "text": [
            "| Train Loss: 0.6598058541615804 | Test Loss: 0.6333708241581917\n"
          ]
        },
        {
          "name": "stderr",
          "output_type": "stream",
          "text": [
            " 40%|████      | 10/25 [00:28<00:43,  2.88s/it]"
          ]
        },
        {
          "name": "stdout",
          "output_type": "stream",
          "text": [
            "| Train Loss: 0.6374684354911248 | Test Loss: 0.6256024949252605\n"
          ]
        },
        {
          "name": "stderr",
          "output_type": "stream",
          "text": [
            " 44%|████▍     | 11/25 [00:31<00:40,  2.90s/it]"
          ]
        },
        {
          "name": "stdout",
          "output_type": "stream",
          "text": [
            "| Train Loss: 0.6274828097472588 | Test Loss: 0.6184298818310102\n"
          ]
        },
        {
          "name": "stderr",
          "output_type": "stream",
          "text": [
            " 48%|████▊     | 12/25 [00:34<00:37,  2.90s/it]"
          ]
        },
        {
          "name": "stdout",
          "output_type": "stream",
          "text": [
            "| Train Loss: 0.6220978746811548 | Test Loss: 0.6127909856537977\n"
          ]
        },
        {
          "name": "stderr",
          "output_type": "stream",
          "text": [
            " 52%|█████▏    | 13/25 [00:37<00:34,  2.90s/it]"
          ]
        },
        {
          "name": "stdout",
          "output_type": "stream",
          "text": [
            "| Train Loss: 0.6161877897878488 | Test Loss: 0.6072983847310146\n"
          ]
        },
        {
          "name": "stderr",
          "output_type": "stream",
          "text": [
            " 56%|█████▌    | 14/25 [00:40<00:31,  2.90s/it]"
          ]
        },
        {
          "name": "stdout",
          "output_type": "stream",
          "text": [
            "| Train Loss: 0.614676412815849 | Test Loss: 0.6137328445911407\n"
          ]
        },
        {
          "name": "stderr",
          "output_type": "stream",
          "text": [
            " 60%|██████    | 15/25 [00:43<00:29,  2.90s/it]"
          ]
        },
        {
          "name": "stdout",
          "output_type": "stream",
          "text": [
            "| Train Loss: 0.6123772772649924 | Test Loss: 0.6030430601288875\n"
          ]
        },
        {
          "name": "stderr",
          "output_type": "stream",
          "text": [
            " 64%|██████▍   | 16/25 [00:46<00:26,  2.92s/it]"
          ]
        },
        {
          "name": "stdout",
          "output_type": "stream",
          "text": [
            "| Train Loss: 0.6096631903201342 | Test Loss: 0.60238275056084\n"
          ]
        },
        {
          "name": "stderr",
          "output_type": "stream",
          "text": [
            " 68%|██████▊   | 17/25 [00:49<00:23,  2.93s/it]"
          ]
        },
        {
          "name": "stdout",
          "output_type": "stream",
          "text": [
            "| Train Loss: 0.6065598179896673 | Test Loss: 0.5985608200232188\n"
          ]
        },
        {
          "name": "stderr",
          "output_type": "stream",
          "text": [
            " 72%|███████▏  | 18/25 [00:52<00:20,  2.93s/it]"
          ]
        },
        {
          "name": "stdout",
          "output_type": "stream",
          "text": [
            "| Train Loss: 0.6005243255446354 | Test Loss: 0.5964388797680537\n"
          ]
        },
        {
          "name": "stderr",
          "output_type": "stream",
          "text": [
            " 76%|███████▌  | 19/25 [00:55<00:17,  2.92s/it]"
          ]
        },
        {
          "name": "stdout",
          "output_type": "stream",
          "text": [
            "| Train Loss: 0.6040634376307329 | Test Loss: 0.6104573092112938\n"
          ]
        },
        {
          "name": "stderr",
          "output_type": "stream",
          "text": [
            " 80%|████████  | 20/25 [00:58<00:14,  2.94s/it]"
          ]
        },
        {
          "name": "stdout",
          "output_type": "stream",
          "text": [
            "| Train Loss: 0.6065705828368664 | Test Loss: 0.5941175241023302\n"
          ]
        },
        {
          "name": "stderr",
          "output_type": "stream",
          "text": [
            " 84%|████████▍ | 21/25 [01:01<00:11,  2.94s/it]"
          ]
        },
        {
          "name": "stdout",
          "output_type": "stream",
          "text": [
            "| Train Loss: 0.5968736317008734 | Test Loss: 0.5942396881679693\n"
          ]
        },
        {
          "name": "stderr",
          "output_type": "stream",
          "text": [
            " 88%|████████▊ | 22/25 [01:04<00:08,  2.94s/it]"
          ]
        },
        {
          "name": "stdout",
          "output_type": "stream",
          "text": [
            "| Train Loss: 0.5961958629389604 | Test Loss: 0.5919641430179278\n"
          ]
        },
        {
          "name": "stderr",
          "output_type": "stream",
          "text": [
            " 92%|█████████▏| 23/25 [01:06<00:05,  2.94s/it]"
          ]
        },
        {
          "name": "stdout",
          "output_type": "stream",
          "text": [
            "| Train Loss: 0.5939756675312916 | Test Loss: 0.5894540517280499\n"
          ]
        },
        {
          "name": "stderr",
          "output_type": "stream",
          "text": [
            " 96%|█████████▌| 24/25 [01:09<00:02,  2.94s/it]"
          ]
        },
        {
          "name": "stdout",
          "output_type": "stream",
          "text": [
            "| Train Loss: 0.5934930462390184 | Test Loss: 0.5912748047461113\n"
          ]
        },
        {
          "name": "stderr",
          "output_type": "stream",
          "text": [
            "100%|██████████| 25/25 [01:12<00:00,  2.92s/it]"
          ]
        },
        {
          "name": "stdout",
          "output_type": "stream",
          "text": [
            "| Train Loss: 0.5975214050461849 | Test Loss: 0.5883531086146832\n"
          ]
        },
        {
          "name": "stderr",
          "output_type": "stream",
          "text": [
            "\n"
          ]
        }
      ],
      "source": [
        "cuda = torch.cuda.is_available()\n",
        "\n",
        "train_losses = []\n",
        "test_losses = []\n",
        "\n",
        "if cuda:\n",
        "    model.cuda()\n",
        "\n",
        "model.train()\n",
        "\n",
        "for epoch in tqdm.tqdm(range(epochs)):\n",
        "    h = model.init_hidden(BATCH_SIZE)\n",
        "\n",
        "    train_batch_losses = []\n",
        "    for inputs, labels in train_loader:\n",
        "\n",
        "        if cuda:\n",
        "            inputs, labels = inputs.cuda(), labels.cuda()\n",
        "\n",
        "        h = tuple([each.data for each in h])\n",
        "\n",
        "        model.zero_grad()\n",
        "\n",
        "        if cuda:\n",
        "            inputs = inputs.type(torch.cuda.LongTensor)\n",
        "\n",
        "        output, h = model(inputs, h)\n",
        "\n",
        "        loss = criterion(output.squeeze(), labels.float())\n",
        "        train_batch_losses.append(loss.item())\n",
        "\n",
        "        loss.backward()\n",
        "\n",
        "        nn.utils.clip_grad_norm_(model.parameters(), clip)\n",
        "        optimizer.step()\n",
        "\n",
        "    test_batch_losses = []\n",
        "    with torch.no_grad():\n",
        "        model.eval()\n",
        "        num_correct = 0\n",
        "        h = model.init_hidden(BATCH_SIZE)\n",
        "\n",
        "        for inputs, labels in train_loader:\n",
        "            if cuda:\n",
        "                inputs, labels = inputs.cuda(), labels.cuda()\n",
        "\n",
        "            h = tuple([each.data for each in h])\n",
        "\n",
        "            output, h = model(inputs, h)\n",
        "            test_loss = criterion(output.squeeze(), labels.float())\n",
        "            test_batch_losses.append(test_loss.item())\n",
        "\n",
        "    model.train()\n",
        "    train_losses.append(np.mean(train_batch_losses))\n",
        "    test_losses.append(np.mean(test_batch_losses))\n",
        "    tqdm.tqdm.write(f'| Train Loss: {train_losses[-1]} | Test Loss: {test_losses[-1]}')"
      ]
    },
    {
      "cell_type": "code",
      "execution_count": 106,
      "metadata": {
        "colab": {
          "base_uri": "https://localhost:8080/",
          "height": 430
        },
        "id": "8gMafmRn5cRK",
        "outputId": "c8ca73da-347d-46fa-eeee-4d6c6ec7d430"
      },
      "outputs": [
        {
          "data": {
            "image/png": "[encoded data removed]",
            "text/plain": [
              "<Figure size 640x480 with 1 Axes>"
            ]
          },
          "metadata": {},
          "output_type": "display_data"
        }
      ],
      "source": [
        "plt.plot(train_losses, label='train')\n",
        "plt.plot(test_losses, label='test')\n",
        "plt.legend()\n",
        "plt.show()"
      ]
    },
    {
      "cell_type": "markdown",
      "metadata": {
        "id": "MCkAwm917PPR"
      },
      "source": [
        "## Evaluate the model"
      ]
    },
    {
      "cell_type": "code",
      "execution_count": 107,
      "metadata": {
        "colab": {
          "base_uri": "https://localhost:8080/"
        },
        "id": "cXY3UGS72Wg1",
        "outputId": "82cd0355-94a9-4ccc-9120-c537a6f83152"
      },
      "outputs": [
        {
          "name": "stdout",
          "output_type": "stream",
          "text": [
            "Test loss: 1.068\n",
            "Test accuracy: 0.462\n"
          ]
        }
      ],
      "source": [
        "cuda = torch.cuda.is_available()\n",
        "\n",
        "test_losses = [] # track loss\n",
        "num_correct = 0\n",
        "\n",
        "# init hidden state\n",
        "h = model.init_hidden(BATCH_SIZE)\n",
        "\n",
        "model.eval()\n",
        "# iterate over test data\n",
        "for inputs, labels in test_loader:\n",
        "\n",
        "    # Creating new variables for the hidden state, otherwise\n",
        "    # we'd backprop through the entire training history\n",
        "    h = tuple([each.data for each in h])\n",
        "\n",
        "    if cuda:\n",
        "        inputs, labels = inputs.cuda(), labels.cuda()\n",
        "\n",
        "    if cuda:\n",
        "        inputs = inputs.type(torch.cuda.LongTensor)\n",
        "    else:\n",
        "        inputs = inputs.type(torch.LongTensor)\n",
        "\n",
        "    output, h = model(inputs, h)\n",
        "\n",
        "    # calculate loss\n",
        "    test_loss = criterion(output.squeeze(), labels.float())\n",
        "    test_losses.append(test_loss.item())\n",
        "\n",
        "    pred = torch.argmax(output, dim=1)  # Get the index of the max log-probability\n",
        "    target = torch.argmax(labels, dim=1)\n",
        "    # Compare predictions to true label\n",
        "    correct_tensor = pred.eq(target)\n",
        "\n",
        "    correct = np.squeeze(correct_tensor.cpu().numpy()) if cuda else np.squeeze(correct_tensor.numpy())\n",
        "    num_correct += np.sum(correct)\n",
        "\n",
        "\n",
        "print(\"Test loss: {:.3f}\".format(np.mean(test_losses)))\n",
        "\n",
        "test_acc = num_correct/len(test_loader.dataset)\n",
        "print(\"Test accuracy: {:.3f}\".format(test_acc))"
      ]
    },
    {
      "cell_type": "code",
      "execution_count": 108,
      "metadata": {
        "colab": {
          "base_uri": "https://localhost:8080/",
          "height": 455
        },
        "id": "q19dG3aEqqnK",
        "outputId": "061889f1-36b0-4704-bf07-0ed4fc1a7c31"
      },
      "outputs": [
        {
          "data": {
            "image/png": "[encoded data removed]",
            "text/plain": [
              "<Figure size 640x480 with 2 Axes>"
            ]
          },
          "metadata": {},
          "output_type": "display_data"
        }
      ],
      "source": [
        "cm = confusion_matrix(target.cpu().numpy(), pred.cpu().numpy())\n",
        "sns.heatmap(cm, annot=True)\n",
        "plt.xlabel('Predicted')\n",
        "plt.ylabel('Truth')\n",
        "plt.show()"
      ]
    },
    {
      "cell_type": "markdown",
      "metadata": {
        "id": "3esiUlzi7Tz6"
      },
      "source": [
        "## Testing the model"
      ]
    },
    {
      "cell_type": "code",
      "execution_count": 109,
      "metadata": {
        "id": "xci2beE33_ZB"
      },
      "outputs": [],
      "source": [
        "def predict(model: SentimentLSTM, test_review: str, sequence_length: int = 200):\n",
        "    cuda = torch.cuda.is_available()\n",
        "\n",
        "    model.eval()  # Set the model to evaluation mode\n",
        "\n",
        "    # Tokenize review\n",
        "    test_words = preprocessing(test_review)\n",
        "    test_ints = [word2idx[word] for word in test_words if word in word2idx]  # Only include words in vocab\n",
        "\n",
        "    if not test_ints:\n",
        "        print(\"No valid words found in the review.\")\n",
        "        return\n",
        "\n",
        "    # Pad tokenized sequence\n",
        "    features = pad_features([test_ints], sequence_length)\n",
        "    feature_tensor = torch.from_numpy(features)\n",
        "\n",
        "    if cuda:\n",
        "        feature_tensor = feature_tensor.cuda()  # Move tensor to GPU if available\n",
        "\n",
        "    # Initialize hidden state\n",
        "    h = model.init_hidden(feature_tensor.size(0))  # Use the batch size of the input\n",
        "\n",
        "    # Get the output from the model\n",
        "    output, h = model(feature_tensor, h)\n",
        "\n",
        "    # Use argmax to get the predicted class index\n",
        "    pred = torch.argmax(output, dim=1).item()  # Get the index of the max log-probability\n",
        "\n",
        "    # Print output values for debugging\n",
        "    print('Output values:', output.detach().cpu().numpy())  # Detach and convert to NumPy for easier viewing\n",
        "\n",
        "    # Map predicted class index to labels\n",
        "    class_labels = {0: \"bad\", 1: \"neutral\", 2: \"good\"}\n",
        "\n",
        "    # Print custom response based on prediction\n",
        "    print(f\"Prediction: {class_labels[pred]}\")\n"
      ]
    },
    {
      "cell_type": "code",
      "execution_count": 110,
      "metadata": {
        "colab": {
          "base_uri": "https://localhost:8080/"
        },
        "id": "5VqtvVBK8p7x",
        "outputId": "31ea0755-b77b-48f2-9423-dfe5e745ca8d"
      },
      "outputs": [
        {
          "name": "stdout",
          "output_type": "stream",
          "text": [
            "Output values: [[9.9999952e-01 1.8456419e-07 2.2971135e-07]]\n",
            "Prediction: bad\n"
          ]
        }
      ],
      "source": [
        "predict(model, 'Ужасный фильм, мне не понравился, смотреть противно', 200)"
      ]
    },
    {
      "cell_type": "code",
      "execution_count": 111,
      "metadata": {
        "colab": {
          "base_uri": "https://localhost:8080/"
        },
        "id": "NqhWQZug9RWD",
        "outputId": "af9aa4b4-6867-4b88-f23b-6b42b5db0961"
      },
      "outputs": [
        {
          "name": "stdout",
          "output_type": "stream",
          "text": [
            "Output values: [[1.0795301e-09 1.2873498e-09 1.0000000e+00]]\n",
            "Prediction: good\n"
          ]
        }
      ],
      "source": [
        "predict(model, 'очень хорошая книга', 200)"
      ]
    },
    {
      "cell_type": "code",
      "execution_count": 112,
      "metadata": {
        "colab": {
          "base_uri": "https://localhost:8080/"
        },
        "id": "ME3qdTK79u33",
        "outputId": "81a8bf70-f2f2-47da-bd22-3396498e212a"
      },
      "outputs": [
        {
          "name": "stdout",
          "output_type": "stream",
          "text": [
            "Output values: [[9.9981755e-01 1.2998508e-04 5.2386360e-05]]\n",
            "Prediction: bad\n"
          ]
        }
      ],
      "source": [
        "predict(model, 'книга отстой можно в мусорку', 200)"
      ]
    },
    {
      "cell_type": "code",
      "execution_count": 113,
      "metadata": {
        "colab": {
          "base_uri": "https://localhost:8080/"
        },
        "id": "juxbruW4AevL",
        "outputId": "9c7c16a3-4a98-42ab-a6f8-aba2e88c4608"
      },
      "outputs": [
        {
          "name": "stdout",
          "output_type": "stream",
          "text": [
            "Output values: [[1.0000000e+00 1.3589714e-08 2.7626260e-08]]\n",
            "Prediction: bad\n"
          ]
        }
      ],
      "source": [
        "predict(model, 'книга отстой? никогда не читайте', 200)"
      ]
    },
    {
      "cell_type": "code",
      "execution_count": 114,
      "metadata": {
        "colab": {
          "base_uri": "https://localhost:8080/"
        },
        "id": "tXmwDHEfAlLd",
        "outputId": "e27f1d8e-2047-4e13-a2aa-45a8b818c363"
      },
      "outputs": [
        {
          "name": "stdout",
          "output_type": "stream",
          "text": [
            "Output values: [[9.8770681e-09 4.4742205e-09 1.0000000e+00]]\n",
            "Prediction: good\n"
          ]
        }
      ],
      "source": [
        "predict(model, 'книга супер', 200)"
      ]
    },
    {
      "cell_type": "code",
      "execution_count": 115,
      "metadata": {
        "colab": {
          "base_uri": "https://localhost:8080/"
        },
        "id": "x3zZucy4xpTK",
        "outputId": "2c5c5b1a-3877-4716-de5a-5fa4f87549e4"
      },
      "outputs": [
        {
          "name": "stdout",
          "output_type": "stream",
          "text": [
            "Output values: [[9.9950755e-01 1.9224091e-04 3.0029251e-04]]\n",
            "Prediction: bad\n"
          ]
        }
      ],
      "source": [
        "predict(model, 'гавно фильм', 200)"
      ]
    },
    {
      "cell_type": "code",
      "execution_count": 116,
      "metadata": {
        "colab": {
          "base_uri": "https://localhost:8080/"
        },
        "id": "oS1DKNDsAnmg",
        "outputId": "b08023cb-dc17-41ea-b733-604bba2fc95c"
      },
      "outputs": [
        {
          "name": "stdout",
          "output_type": "stream",
          "text": [
            "Output values: [[0.01537006 0.04762119 0.93700874]]\n",
            "Prediction: good\n"
          ]
        }
      ],
      "source": [
        "predict(model, 'очень хороший фильм', 200)"
      ]
    }
  ],
  "metadata": {
    "accelerator": "GPU",
    "colab": {
      "provenance": [],
      "toc_visible": true
    },
    "kernelspec": {
      "display_name": "Python 3",
      "language": "python",
      "name": "python3"
    },
    "language_info": {
      "codemirror_mode": {
        "name": "ipython",
        "version": 3
      },
      "file_extension": ".py",
      "mimetype": "text/x-python",
      "name": "python",
      "nbconvert_exporter": "python",
      "pygments_lexer": "ipython3",
      "version": "3.10.14"
    }
  },
  "nbformat": 4,
  "nbformat_minor": 0
}
